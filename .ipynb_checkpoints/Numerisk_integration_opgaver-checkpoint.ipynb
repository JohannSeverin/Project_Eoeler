{
 "cells": [
  {
   "cell_type": "markdown",
   "metadata": {
    "solution": "hidden",
    "toc": true
   },
   "source": [
    "<h1>Table of Contents<span class=\"tocSkip\"></span></h1>\n",
    "<div class=\"toc\"><ul class=\"toc-item\"><li><span><a href=\"#Forward-Euler\" data-toc-modified-id=\"Forward-Euler-1\"><span class=\"toc-item-num\">1&nbsp;&nbsp;</span>Forward Euler</a></span></li><li><span><a href=\"#Numeriske-fejl-og-integrationsmetoder\" data-toc-modified-id=\"Numeriske-fejl-og-integrationsmetoder-2\"><span class=\"toc-item-num\">2&nbsp;&nbsp;</span>Numeriske fejl og integrationsmetoder</a></span></li><li><span><a href=\"#Optimering-af-koden\" data-toc-modified-id=\"Optimering-af-koden-3\"><span class=\"toc-item-num\">3&nbsp;&nbsp;</span>Optimering af koden</a></span></li><li><span><a href=\"#Animationer\" data-toc-modified-id=\"Animationer-4\"><span class=\"toc-item-num\">4&nbsp;&nbsp;</span>Animationer</a></span></li></ul></div>"
   ]
  },
  {
   "cell_type": "markdown",
   "metadata": {},
   "source": [
    "<html><head>\n",
    "\n",
    "\n",
    "<!-- Load require.js. Delete this if your page already loads require.js -->\n",
    "<script src=\"https://cdnjs.cloudflare.com/ajax/libs/require.js/2.3.4/require.min.js\" integrity=\"sha256-Ae2Vz/4ePdIu6ZyI/5ZGsYnb+m0JlOmKPjt6XZ9JJkA=\" crossorigin=\"anonymous\"></script>\n",
    "<script src=\"https://unpkg.com/@jupyter-widgets/html-manager@*/dist/embed-amd.js\" crossorigin=\"anonymous\"></script>\n",
    "<script type=\"application/vnd.jupyter.widget-state+json\">\n",
    "{\n",
    "    \"version_major\": 2,\n",
    "    \"version_minor\": 0,\n",
    "    \"state\": {}\n",
    "}\n",
    "</script>\n",
    "</head>\n",
    "<body>\n",
    "\n",
    "\n",
    "</body>\n",
    "</html>\n"
   ]
  },
  {
   "cell_type": "markdown",
   "metadata": {},
   "source": [
    "# Numerisk integration og det skrå kast\n",
    "__Johann Severin, Jacob Osman__\n",
    "\n",
    "Dette er et kort sæt opgaver, hvor vi har tænkt os at udforske, hvad det vil sige at benytte computere til numerisk integration, og hvordan vi kan forbedre det. Jeg vil her benytte det skrå kast som eksempel, men prøv endelig med dit eget yndlingssæt af differentialligninger."
   ]
  },
  {
   "cell_type": "markdown",
   "metadata": {},
   "source": [
    "## Forward Euler\n",
    "Forward Euler er den helt klassiske form for numerisk integration, så det er et godt sted at starte. Vi benytter ved numerisk integration, at vi blot kan gøre tidsskridtene meget små og derved få en ret høj precision. Så hvis vi eksempelvis har en sammenhæng mellem en konstant acceleration og position:\n",
    "$$ \\frac{d^2x}{dt^2} = a $$\n",
    "\n",
    "Så vil vi i numerisk integration skrive dette ved småtidsskridt $\\Delta t$. Vi får altså:\n",
    "$$ v_{n+1} = v_{n} + \\Delta t \\cdot a_{n+1} \\; \\; \\; \\; x_{n+1} = x_n + \\Delta t v_{n+1}$$"
   ]
  },
  {
   "cell_type": "markdown",
   "metadata": {},
   "source": [
    "Inden vi begynder at programmere, lad os lige starte med at lave lidt matematik. Vi starter med at se bort fra luftmodstand, men det vil vi selvfølgelig inkludere senere.\n",
    "\n",
    "__Opgave 1__\n",
    "_Opskriv differentialligningerne, som beskriver det skrå kast (altså både x og y. Og opskriv dem ligedeles recursivt, som gjort i ligning 2._"
   ]
  },
  {
   "cell_type": "markdown",
   "metadata": {},
   "source": [
    "Nu har vi differentialligningerne på en form, som virker godt til at kode med. Vi vil derfor skrive en funktion, der kan regne dette ud for os. Først vil jeg dog lige foreslå at indskrive nogle konstanter, herunder g og $\\Delta t$. For nu sætter vi dem blot til $g = -9.8$ og $\\Delta t = 0.05$, men leg gerne med disse værdier."
   ]
  },
  {
   "cell_type": "code",
   "execution_count": 1,
   "metadata": {
    "ExecuteTime": {
     "end_time": "2019-12-04T20:57:56.305749Z",
     "start_time": "2019-12-04T20:57:56.300014Z"
    }
   },
   "outputs": [],
   "source": [
    "g = 9.8\n",
    "dt = 0.05"
   ]
  },
  {
   "cell_type": "markdown",
   "metadata": {},
   "source": [
    "__Opgave 2__ _Skriv en funktion, der tager $x, y, v_x, v_y$ som input og returnere næste iteration af dem. (Dette virker måske lidt som overkill, men det er en god måde at vende sig til at arbejde på. Det bliver især tydeligt, når vi tilføjer luftmodstand). Denne funktion vil fremover være vores update funktion._"
   ]
  },
  {
   "cell_type": "markdown",
   "metadata": {},
   "source": [
    "Nu skal vi så blot vores update funktion af:\n",
    "\n",
    "__Opgave 3__ _Giv nogle realistiske start gæt for $x, y, v_x$ og $v_y$ samt en tom liste for $x$ og $y$. Kør nu update funktionen et sted mellem 100-1000 gange og gem x og y værdierne i en liste. Når du har gjort dette, så plot figurene, og se om det ser nogenlunde ud._"
   ]
  },
  {
   "cell_type": "markdown",
   "metadata": {},
   "source": [
    "Nu kan vi gå lidt forskellige veje alt efter, hvad vi vil undersøge. Til at starte med vil vi prøve at definere et Event. Altså en funktion, der enten returenere True eller False, alt efter, om der skal ske noget. Det ville være noget i form af:"
   ]
  },
  {
   "cell_type": "code",
   "execution_count": 2,
   "metadata": {
    "ExecuteTime": {
     "end_time": "2019-12-04T21:00:18.487675Z",
     "start_time": "2019-12-04T21:00:18.484579Z"
    }
   },
   "outputs": [],
   "source": [
    "def event(x, y, v_x, v_y):\n",
    "    if something:\n",
    "        return True\n",
    "    else:\n",
    "        return False"
   ]
  },
  {
   "cell_type": "markdown",
   "metadata": {},
   "source": [
    "__Opgave 4__ _Skriv en funktion, som tager \"x, y, v_x, v_y\" som input og returene \"True\", hvis bolden rammer jorden. Inkluder det i dit \"for\"-loop og sørg for, at integrationen stopper, hvis vi rammer jorden._"
   ]
  },
  {
   "cell_type": "markdown",
   "metadata": {},
   "source": [
    "Vi er nu ved at være klar til at kigge på et lidt mere kompliceret eksempel. Vi tilføjer nu en luftmodstand. Luftmodstanden er givet som:\n",
    "\n",
    "$$\\vec{F_{luft}} = - b \\vec{v}^2$$\n",
    "\n",
    "Hvor $b$ indeholder formfaktor, tværsnitsareal og luftdensitet. Vi samler det dog bare i en faktor b nu.\n",
    "\n",
    "\n",
    "__Opgave 5__ _Omskriv din funktion fra Opgave 1, så den inkluderer en acceleration i x og y retningen, som er afhængig af hastigheden (og husk! også hastighedens retning). Prøv at køre simuleringen for forskellige værdier af b._"
   ]
  },
  {
   "cell_type": "markdown",
   "metadata": {},
   "source": [
    "## Numeriske fejl og integrationsmetoder"
   ]
  },
  {
   "cell_type": "markdown",
   "metadata": {},
   "source": [
    "Et kæmpe problem med Forward Euler er, at hvis vi ønsker en bedre præcision, skal vi lave mindre time-steps. Dette kan allerede ses i den forrige opgave, når tiden t bliver tilstrækkelig stor.\n",
    "\n",
    "__Opgave 6__ _Udregn y- og x-værdier analytisk og plot forholdet mellem dine simulereret resultater og dit forventede resultat. Er den lig 1 til alle tider? Hvad sker der hvis vi gør skridtstørrelsen mindre eller større?_\n",
    "\n",
    "En mulighed at forbedre det er ved at bruge andre algoritmer end forward euler. Vi vil starte med at kigge på Improved Euler. For at få maximalt ud af denne opgave, går vi tilbage til det enkelte skråksat, da vi kan løse dette algebraisk og altså kan sammenligne med \"det rigtige svar\".\n",
    "\n",
    "I stedet for blot at gange $\\Delta t$ benytter vi i stedet følgende algoritme til at opdate vores variabel:\n",
    "Hvis vi har $x' = f(x)$, så finder vi den næste værdi ved først at bruge en intermediate værdi, $\\bar{x}$:\n",
    "\n",
    "$$\\bar{x} = x + \\Delta t f(x)$$\n",
    "\n",
    "og så definerer vi den næste værdi:\n",
    "\n",
    "$$\\bar{x}_{n+1} = \\frac{\\Delta t}{2}\\left(f(x) + f(\\bar{x}\\right))$$\n"
   ]
  },
  {
   "cell_type": "markdown",
   "metadata": {},
   "source": [
    "__Opgave 7__ _Implemeneter improved Euler metoden til at forbedre dit fit. Prøv at sætte et forholdvist lavt $\\Delta t$ og plot det i samme graf som hhv. en forward-Euler og den algebraiske løsning._"
   ]
  },
  {
   "cell_type": "markdown",
   "metadata": {},
   "source": [
    "__Opgave 8__ _Nok den mest brugte metode til numerisk integration er Runga-Kutta. Prøv at implementer denne, og kig igen på forskellene. Man kan læse mere om denne her:_ https://en.wikipedia.org/wiki/Runge%E2%80%93Kutta_methods"
   ]
  },
  {
   "cell_type": "markdown",
   "metadata": {},
   "source": [
    "## Optimering af koden\n",
    "Vi vil nu kigge lidt på forskellige måder at optimere koden på. Først importerer vi numpy og time:"
   ]
  },
  {
   "cell_type": "code",
   "execution_count": 4,
   "metadata": {
    "ExecuteTime": {
     "end_time": "2019-12-04T21:38:35.489662Z",
     "start_time": "2019-12-04T21:38:35.485758Z"
    }
   },
   "outputs": [],
   "source": [
    "import numpy as np # Numerisk værktøj til at gøre koden en del hurtigere.\n",
    "from time import time # Denne funktion giver dig tiden"
   ]
  },
  {
   "cell_type": "markdown",
   "metadata": {},
   "source": [
    "Vi kan nu finde den tid vores kode benytter på udregningerne som:"
   ]
  },
  {
   "cell_type": "code",
   "execution_count": 5,
   "metadata": {
    "ExecuteTime": {
     "end_time": "2019-12-04T21:38:39.328409Z",
     "start_time": "2019-12-04T21:38:39.325138Z"
    }
   },
   "outputs": [
    {
     "name": "stdout",
     "output_type": "stream",
     "text": [
      "5.221366882324219e-05\n"
     ]
    }
   ],
   "source": [
    "start = time()\n",
    "\"\"\"\n",
    "Skriv kode her\n",
    "Mere kode\n",
    "Endnu mere kode\n",
    "\"\"\"\n",
    "duration = time() - start\n",
    "print(duration)"
   ]
  },
  {
   "cell_type": "markdown",
   "metadata": {},
   "source": [
    "__Opgave 8__ _Prøv at teste tidsforskellen på forskellen i tiden, hvis du allokerer et array først i stedet for at appende det til en liste, Altså brug np.zeros() og erstat det i'te element._"
   ]
  },
  {
   "cell_type": "markdown",
   "metadata": {},
   "source": [
    "__Opgave 9__ _Prøv at lege med jeres timesteps. Hvor lang tid tager det for hver af de forskellige algoritmer at give dig et acceptabelt svar._"
   ]
  }
 ],
 "metadata": {
  "kernelspec": {
   "display_name": "Python 3",
   "language": "python",
   "name": "python3"
  },
  "language_info": {
   "codemirror_mode": {
    "name": "ipython",
    "version": 3
   },
   "file_extension": ".py",
   "mimetype": "text/x-python",
   "name": "python",
   "nbconvert_exporter": "python",
   "pygments_lexer": "ipython3",
   "version": "3.7.4"
  },
  "latex_envs": {
   "LaTeX_envs_menu_present": true,
   "autoclose": false,
   "autocomplete": true,
   "bibliofile": "biblio.bib",
   "cite_by": "apalike",
   "current_citInitial": 1,
   "eqLabelWithNumbers": true,
   "eqNumInitial": 1,
   "hotkeys": {
    "equation": "Ctrl-E",
    "itemize": "Ctrl-I"
   },
   "labels_anchors": false,
   "latex_user_defs": false,
   "report_style_numbering": false,
   "user_envs_cfg": false
  },
  "toc": {
   "base_numbering": 1,
   "nav_menu": {},
   "number_sections": true,
   "sideBar": true,
   "skip_h1_title": true,
   "title_cell": "Table of Contents",
   "title_sidebar": "Contents",
   "toc_cell": true,
   "toc_position": {},
   "toc_section_display": true,
   "toc_window_display": false
  },
  "varInspector": {
   "cols": {
    "lenName": 16,
    "lenType": 16,
    "lenVar": 40
   },
   "kernels_config": {
    "python": {
     "delete_cmd_postfix": "",
     "delete_cmd_prefix": "del ",
     "library": "var_list.py",
     "varRefreshCmd": "print(var_dic_list())"
    },
    "r": {
     "delete_cmd_postfix": ") ",
     "delete_cmd_prefix": "rm(",
     "library": "var_list.r",
     "varRefreshCmd": "cat(var_dic_list()) "
    }
   },
   "types_to_exclude": [
    "module",
    "function",
    "builtin_function_or_method",
    "instance",
    "_Feature"
   ],
   "window_display": false
  }
 },
 "nbformat": 4,
 "nbformat_minor": 2
}
