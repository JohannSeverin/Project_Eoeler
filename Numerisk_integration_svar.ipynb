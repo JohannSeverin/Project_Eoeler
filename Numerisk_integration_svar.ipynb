{
 "cells": [
  {
   "cell_type": "markdown",
   "metadata": {
    "solution": "hidden",
    "toc": true
   },
   "source": [
    "<h1>Table of Contents<span class=\"tocSkip\"></span></h1>\n",
    "<div class=\"toc\"><ul class=\"toc-item\"><li><span><a href=\"#Forward-Euler\" data-toc-modified-id=\"Forward-Euler-1\"><span class=\"toc-item-num\">1&nbsp;&nbsp;</span>Forward Euler</a></span></li></ul></div>"
   ]
  },
  {
   "cell_type": "markdown",
   "metadata": {},
   "source": [
    "<html><head>\n",
    "\n",
    "\n",
    "<!-- Load require.js. Delete this if your page already loads require.js -->\n",
    "<script src=\"https://cdnjs.cloudflare.com/ajax/libs/require.js/2.3.4/require.min.js\" integrity=\"sha256-Ae2Vz/4ePdIu6ZyI/5ZGsYnb+m0JlOmKPjt6XZ9JJkA=\" crossorigin=\"anonymous\"></script>\n",
    "<script src=\"https://unpkg.com/@jupyter-widgets/html-manager@*/dist/embed-amd.js\" crossorigin=\"anonymous\"></script>\n",
    "<script type=\"application/vnd.jupyter.widget-state+json\">\n",
    "{\n",
    "    \"version_major\": 2,\n",
    "    \"version_minor\": 0,\n",
    "    \"state\": {}\n",
    "}\n",
    "</script>\n",
    "</head>\n",
    "<body>\n",
    "\n",
    "\n",
    "</body>\n",
    "</html>\n"
   ]
  },
  {
   "cell_type": "markdown",
   "metadata": {},
   "source": [
    "# Numerisk integration og det skrå kast\n",
    "Dette er et kort sæt opgaver, hvor vi har tænkt os at udforske, hvad det vil sige at benytte computere til numerisk integration, og hvordan vi kan forbedre det. Jeg vil her benytte det skrå kast som eksempelv, men prøv endelig med dit eget yndlingssæt af differentialligninger."
   ]
  },
  {
   "cell_type": "markdown",
   "metadata": {},
   "source": [
    "## Forward Euler\n",
    "Forward Euler er den helt klassiske form for numerisk integration, så det er et godt sted at starte. Vi benytter ved numerisk integration, at vi blot kan gøre tidsskridtene meget små og derved få en ret præcis precision. Så hvis vi eksempelvis har en sammenhæng mellem en konstant acceleration og position:\n",
    "$$ \\frac{d^2x}{dt^2} = a $$\n",
    "\n",
    "Så vil vi i numerisk integration skrive dette ved småtidsskridt $\\Delta t$. Vi får altså:\n",
    "$$ v_{n+1} = v_{n} + \\Delta t \\cdot a_{n+1} \\; \\; \\; \\; x_{n+1} = x_n + \\Delta t v_{n+1}$$"
   ]
  },
  {
   "cell_type": "markdown",
   "metadata": {},
   "source": [
    "Inden vi begynder at programmere, lad os lige starte med at lave lidt matematik. Vi starter med at se bort fra luftmodstand, men det vil vi selvfølgelig sætte på senere.\n",
    "\n",
    "__Opgave 1__\n",
    "_Opskriv differentialligningerne, som beskriver det skrå kast (altså både x og y. Og opskriv dem ligedeles recursivt, som gjort i ligning 2._"
   ]
  },
  {
   "cell_type": "markdown",
   "metadata": {},
   "source": [
    "Det jeg var interreseret i var følgende:\n",
    "For acceleration:\n",
    "$$ \\frac{d^2x}{dx^2} = 0 \\; \\; \\; \\frac{d^2y}{dx^2} = -g \\; \\; \\;$$\n",
    "\n",
    "Vi kan nu opskrive det recursivt:\n",
    "$$ v_{x n+1} = v_{x  n} \\; \\; \\; v_{y n+1} = v_{y n} - g \\Delta t$$\n",
    "\n",
    "og for positionerne:\n",
    "$$ x_{n+1} = x_n + v_{x n+1} \\Delta t \\; \\; \\;  y_{n+1} = y_n + v_{y n+1} \\Delta t$$"
   ]
  },
  {
   "cell_type": "markdown",
   "metadata": {},
   "source": [
    "Nu har vi differentialligningerne på en form, som virker godt til at kode med. Vi vil derfor skrive en funktion, der kan regne dette ud for os. Først vil jeg dog lige foreslå at indskrive nogle konstanter, herunder g og $\\Delta t$. For nu sætter vi dem blot til $g = -9.8$ og $\\Delta t = 0.05$, men leg gerne med disse værdier."
   ]
  },
  {
   "cell_type": "code",
   "execution_count": 54,
   "metadata": {
    "ExecuteTime": {
     "end_time": "2019-12-04T21:29:12.895934Z",
     "start_time": "2019-12-04T21:29:12.874773Z"
    }
   },
   "outputs": [],
   "source": [
    "g = 9.8\n",
    "dt = 0.05"
   ]
  },
  {
   "cell_type": "markdown",
   "metadata": {
    "solution": "shown",
    "solution_first": true
   },
   "source": [
    "\\begin{exercise}\n",
    "    Skriv en funktion, der tager $x, y, v_x, v_y$ som input og returnere næste iteration af dem. \\textit{(Dette virker måske lidt som overkill, men det er en god måde at vende sig til at arbejde på. Det bliver især tydeligt, når vi tilføjer luftmodstand)} \n",
    "\\end{exercise}"
   ]
  },
  {
   "cell_type": "markdown",
   "metadata": {
    "solution": "shown"
   },
   "source": [
    "Herunder har jeg opskrevet to updates til et forslag til, hvordan sådan en update funktion kunne se ud. Den er måske lidt mere kringlet end nødvendig, men det er er en form, der kommer os til gavn senere. Så længe din funktion gør det samme, så er du godt med!"
   ]
  },
  {
   "cell_type": "code",
   "execution_count": 28,
   "metadata": {
    "ExecuteTime": {
     "end_time": "2019-12-04T21:23:55.243969Z",
     "start_time": "2019-12-04T21:23:55.225668Z"
    },
    "solution": "shown"
   },
   "outputs": [],
   "source": [
    "def update(x, y, v_x, v_y):\n",
    "    a_x = 0\n",
    "    a_y = - g\n",
    "    v_x = v_x\n",
    "    v_y += a_y*dt\n",
    "    x += v_x * dt\n",
    "    y += v_y * dt\n",
    "    return x, y, v_x, v_y"
   ]
  },
  {
   "cell_type": "markdown",
   "metadata": {},
   "source": [
    "Nu skal vi så blot vores update funktion af:\n",
    "\\begin{exercise}\n",
    "Giv nogle realistiske start gæt for $x, y, v_x$ og $v_y$ samt en tom liste for $x$ og $y$. Kør nu update funktionen et sted mellem 100-1000 gange og gem x og y værdierne i en liste. Når du har gjort dette, så plot figurene, og se om det ser nogenlunde ud.\n",
    "\\end{exercise}"
   ]
  },
  {
   "cell_type": "markdown",
   "metadata": {},
   "source": [
    "Vi starter med at definere startbetingelserne og gøre nogle tomme arrays klar. (det er hurtigere at benytte numpy arrays fyldt med nuller og blot ændre indgangene, men det vil jeg lade dig, lege med senere:"
   ]
  },
  {
   "cell_type": "code",
   "execution_count": 55,
   "metadata": {
    "ExecuteTime": {
     "end_time": "2019-12-04T21:29:17.002415Z",
     "start_time": "2019-12-04T21:29:16.990763Z"
    }
   },
   "outputs": [],
   "source": [
    "x, y, v_x, v_y = 0, 0, 5, 5\n",
    "\n",
    "xs, ys = [x], [y]\n",
    "\n",
    "for _ in range(N):\n",
    "    x, y, v_x, v_y = update(x, y, v_x, v_y)\n",
    "    xs.append(x)\n",
    "    ys.append(y)"
   ]
  },
  {
   "cell_type": "markdown",
   "metadata": {},
   "source": [
    "Nu kan vi forsøge at plotte det:"
   ]
  },
  {
   "cell_type": "code",
   "execution_count": 5,
   "metadata": {
    "ExecuteTime": {
     "end_time": "2019-12-04T21:08:17.211864Z",
     "start_time": "2019-12-04T21:08:17.045032Z"
    },
    "scrolled": true
   },
   "outputs": [
    {
     "data": {
      "text/plain": [
       "[<matplotlib.lines.Line2D at 0x7fb14cc26710>]"
      ]
     },
     "execution_count": 5,
     "metadata": {},
     "output_type": "execute_result"
    },
    {
     "data": {
      "image/png": "[encoded data removed]",
      "text/plain": [
       "<Figure size 432x288 with 1 Axes>"
      ]
     },
     "metadata": {
      "needs_background": "light"
     },
     "output_type": "display_data"
    }
   ],
   "source": [
    "import matplotlib.pyplot as plt\n",
    "plt.plot(xs, ys)"
   ]
  },
  {
   "cell_type": "markdown",
   "metadata": {
    "solution": "hidden"
   },
   "source": [
    "Nedenunder er jeg kommet med et forslag til, hvorledes det kan skrives op. Dette virker måske lidt strengent, men det er vigtigt at bemærke, hvordan vi definere den højeste orden af differentiale først og så blot arbejder os ned af. Vi kan nemlig altid bestemme accelerationen ud fra position og hastighed (ellers skal vi nok finde et andet værktøj):"
   ]
  },
  {
   "cell_type": "code",
   "execution_count": 3,
   "metadata": {
    "solution": "hidden",
    "solution2": "hidden",
    "solution2_first": true
   },
   "outputs": [],
   "source": [
    "def update(x, y, v_x, v_y):\n",
    "    a_y = - g\n",
    "    a_x = 0\n",
    "    v_y += -g * dt\n",
    "    v_x = v_x\n",
    "    y += v_y * dt\n",
    "    x += v_x * dt\n",
    "    return x, y, v_x, v_y"
   ]
  }
 ],
 "metadata": {
  "kernelspec": {
   "display_name": "Python 3",
   "language": "python",
   "name": "python3"
  },
  "language_info": {
   "codemirror_mode": {
    "name": "ipython",
    "version": 3
   },
   "file_extension": ".py",
   "mimetype": "text/x-python",
   "name": "python",
   "nbconvert_exporter": "python",
   "pygments_lexer": "ipython3",
   "version": "3.7.5"
  },
  "latex_envs": {
   "LaTeX_envs_menu_present": true,
   "autoclose": false,
   "autocomplete": true,
   "bibliofile": "biblio.bib",
   "cite_by": "apalike",
   "current_citInitial": 1,
   "eqLabelWithNumbers": true,
   "eqNumInitial": 1,
   "hotkeys": {
    "equation": "Ctrl-E",
    "itemize": "Ctrl-I"
   },
   "labels_anchors": false,
   "latex_user_defs": false,
   "report_style_numbering": false,
   "user_envs_cfg": false
  },
  "toc": {
   "base_numbering": 1,
   "nav_menu": {},
   "number_sections": true,
   "sideBar": true,
   "skip_h1_title": true,
   "title_cell": "Table of Contents",
   "title_sidebar": "Contents",
   "toc_cell": true,
   "toc_position": {},
   "toc_section_display": true,
   "toc_window_display": false
  },
  "varInspector": {
   "cols": {
    "lenName": 16,
    "lenType": 16,
    "lenVar": 40
   },
   "kernels_config": {
    "python": {
     "delete_cmd_postfix": "",
     "delete_cmd_prefix": "del ",
     "library": "var_list.py",
     "varRefreshCmd": "print(var_dic_list())"
    },
    "r": {
     "delete_cmd_postfix": ") ",
     "delete_cmd_prefix": "rm(",
     "library": "var_list.r",
     "varRefreshCmd": "cat(var_dic_list()) "
    }
   },
   "types_to_exclude": [
    "module",
    "function",
    "builtin_function_or_method",
    "instance",
    "_Feature"
   ],
   "window_display": false
  }
 },
 "nbformat": 4,
 "nbformat_minor": 2
}
